{
 "cells": [
  {
   "cell_type": "code",
   "execution_count": 2,
   "metadata": {},
   "outputs": [],
   "source": [
    "import csv\n",
    "import json\n",
    "import pprint\n"
   ]
  },
  {
   "cell_type": "markdown",
   "metadata": {},
   "source": [
    "Файлы именуются в виде \"Фамилия\\_Группа\\_Вар\\_номер.ipynb\". Пример: \"Милованов\\_ПИ1-2\\_Вар\\_1.ipynb\""
   ]
  },
  {
   "cell_type": "markdown",
   "metadata": {},
   "source": [
    "Не забываем про try-except. Везде, где вы считаете, что может вылететь ошибка, вставляем try except"
   ]
  },
  {
   "cell_type": "markdown",
   "metadata": {},
   "source": [
    "Даны файлы students.csv, results.csv, groups.csv, subjects.csv, teachers.csv. Разделены \";\"\n",
    "\n",
    "Файл groups.csv имеет столбцы id, text_name, entry_year, где id - уникиальный идентификатор группы, text_name - наименование группы, entry_year - год поступления. \n",
    "\n",
    "students.csv имеет следующие столбцы: id, first_name, last_name, group_id, где id - уникальный идентификатор студента (номер зачетной книжки), first_name - Имя, last_name - фамилия, group_id - идентификатор группы, в которой он учится.\n",
    "\n",
    "result.csv имеет следующие столбцы: id - уникальный идентификатор записи, subject_id - идентификатор учебного предмета, student_id - уникальный идентификатор студента, att1 - результат первой аттестации, att2 - результат второй аттестации, exam - результат экзаменнационной или зачетной работы, total - общий результат, teacher_id - уникальный идентификатор преподавателя.\n",
    "\n",
    "subjects.csv имеет следующие столбцы: id - уникальный идентификатор предмета, subject_name - наименование предмета.\n",
    "\n",
    "teachers.csv: id - уникальный идентификатор преподавателя, first_name - Имя, last_name - фамилия, middle_name - отчество"
   ]
  },
  {
   "cell_type": "markdown",
   "metadata": {},
   "source": [
    "1. Написать функцию, которая принимает id преподавателя и id группы. Функция возвращает False, если данный преподаватель не преподавал у данной группы, None, если такого прподавателя не существует, иначе возвращается словарь, в котором ключами являются наименования предметов, а значениями словари, которые хранят в себе информации о количестве студентов, сдавших на 5, 4, 3 и 2 по данному предмету."
   ]
  },
  {
   "cell_type": "code",
   "execution_count": 35,
   "metadata": {},
   "outputs": [
    {
     "data": {
      "text/plain": [
       "{'Реинжиниринг бизнес-процессов': {'5': 2, '4': 9, '3': 9, '2': 6}}"
      ]
     },
     "execution_count": 35,
     "metadata": {},
     "output_type": "execute_result"
    }
   ],
   "source": [
    "def funk_1(teacher_id, group_id):\n",
    "    teachers = []\n",
    "    with open('teachers.csv', 'r') as f:\n",
    "        csv_reader = csv.reader(f, delimiter=';')\n",
    "        for row in csv_reader:\n",
    "            if row[0][0] == \"i\":\n",
    "                continue\n",
    "            teachers.append({\"id\":int(row[0]), \n",
    "                            \"first_name\":row[1], \n",
    "                            \"last_name\":row[2],\n",
    "                            \"middle_name\":row[3]\n",
    "                            })\n",
    "    subjects = {}\n",
    "    with open('subjects.csv', 'r') as f:\n",
    "        csv_reader = csv.reader(f, delimiter=';')\n",
    "        for row in csv_reader:\n",
    "            if row[0][0] == \"i\":\n",
    "                continue\n",
    "            subjects[int(row[0])] = row[1]\n",
    "\n",
    "\n",
    "    check = 0\n",
    "    for i in teachers:\n",
    "        if i[\"id\"] == teacher_id:\n",
    "            check = 1\n",
    "    if check == 0:\n",
    "        return(\"None\")\n",
    "    \n",
    "    students = []\n",
    "    with open('students.csv', 'r') as f:\n",
    "        csv_reader = csv.reader(f, delimiter=';')\n",
    "        for row in csv_reader:\n",
    "            if row[0][0] == \"i\":\n",
    "                continue\n",
    "            if int(row[3]) == group_id:\n",
    "                students.append(int(row[0]))\n",
    "    \n",
    "    dic = {}\n",
    "    with open('results.csv', 'r') as f:\n",
    "        csv_reader = csv.reader(f, delimiter=';')\n",
    "        for row in csv_reader:\n",
    "            if row[0][0] == \"i\":\n",
    "                continue\n",
    "            if int(row[2]) in students and int(row[3]) == teacher_id:\n",
    "                if subjects[int(row[1])] not in dic:\n",
    "                    dic[subjects[int(row[1])]] = {\"5\":0, \"4\":0, \"3\":0, \"2\":0}\n",
    "                if int(row[7]) >= 85:\n",
    "                    dic[subjects[int(row[1])]][\"5\"] += 1\n",
    "                elif int(row[7]) >= 75:\n",
    "                    dic[subjects[int(row[1])]][\"4\"] += 1\n",
    "                elif int(row[7]) >= 51:\n",
    "                    dic[subjects[int(row[1])]][\"3\"] += 1\n",
    "                else:\n",
    "                    dic[subjects[int(row[1])]][\"2\"] += 1\n",
    "        if dic == {}:\n",
    "            return (\"False\")\n",
    "    return(dic)\n",
    "\n",
    "funk_1(5, 4)"
   ]
  },
  {
   "cell_type": "markdown",
   "metadata": {},
   "source": [
    "2. Написать функцию, которая принимает ФИО преподавателя и необязательный параметр to_json, который по умолчанию равен False и принимает имя файла. Если указан параметр to_json, то он должен сохранить итоговый результат в данный файл и вернуть значение True, иначе просто вернуть словарь. В словаре ключами являются наименования групп, в которых он преподавал, а значениям - результат выполнения первой функции."
   ]
  },
  {
   "cell_type": "code",
   "execution_count": 32,
   "metadata": {},
   "outputs": [
    {
     "name": "stdout",
     "output_type": "stream",
     "text": [
      "{'ПИ1-1': {'Web-программирование': {'2': 3, '3': 12, '4': 8, '5': 4},\n",
      "           'Микроэкономика': {'2': 6, '3': 5, '4': 13, '5': 3},\n",
      "           'Философия': {'2': 5, '3': 13, '4': 8, '5': 1}},\n",
      " 'ПИ1-2': {'Математический анализ': {'2': 2, '3': 6, '4': 13, '5': 4},\n",
      "           'Философия': {'2': 8, '3': 6, '4': 11, '5': 0}},\n",
      " 'ПИ1-3': {'Дискретная математика': {'2': 4, '3': 11, '4': 6, '5': 5}},\n",
      " 'ПИ1-4': {'Линейная алгебра': {'2': 2, '3': 12, '4': 9, '5': 3},\n",
      "           'Современные языки программирования': {'2': 3,\n",
      "                                                  '3': 9,\n",
      "                                                  '4': 11,\n",
      "                                                  '5': 3}},\n",
      " 'ПИ4-1': {'Макроэкономика': {'2': 6, '3': 5, '4': 5, '5': 2},\n",
      "           'Математический анализ': {'2': 3, '3': 4, '4': 9, '5': 2}},\n",
      " 'ПИ4-2': {'Вычислительные системы и сетевые телекоммуникации': {'2': 4,\n",
      "                                                                 '3': 9,\n",
      "                                                                 '4': 5,\n",
      "                                                                 '5': 1},\n",
      "           'Корпоративные информационные системы': {'2': 3,\n",
      "                                                    '3': 6,\n",
      "                                                    '4': 6,\n",
      "                                                    '5': 4}},\n",
      " 'ПИ4-3': {'Функциональное программирование': {'2': 3, '3': 5, '4': 8, '5': 2}},\n",
      " 'ПМ1-1': {'Информационная безопасность': {'2': 3, '3': 8, '4': 12, '5': 3},\n",
      "           'Корпоративные информационные системы': {'2': 3,\n",
      "                                                    '3': 13,\n",
      "                                                    '4': 8,\n",
      "                                                    '5': 2}},\n",
      " 'ПМ1-2': {'Web-программирование': {'2': 3, '3': 6, '4': 11, '5': 4},\n",
      "           'Вычислительные системы и сетевые телекоммуникации': {'2': 8,\n",
      "                                                                 '3': 5,\n",
      "                                                                 '4': 10,\n",
      "                                                                 '5': 1},\n",
      "           'Дискретная математика': {'2': 4, '3': 10, '4': 7, '5': 3}},\n",
      " 'ПМ1-3': {'Алгоритмы и структуры данных': {'2': 4, '3': 8, '4': 11, '5': 1},\n",
      "           'Базы данных': {'2': 2, '3': 6, '4': 12, '5': 4},\n",
      "           'Дискретная математика': {'2': 6, '3': 6, '4': 7, '5': 5},\n",
      "           'Микроэкономика': {'2': 5, '3': 8, '4': 6, '5': 5},\n",
      "           'Функциональное программирование': {'2': 4,\n",
      "                                               '3': 7,\n",
      "                                               '4': 11,\n",
      "                                               '5': 2}},\n",
      " 'ПМ1-5': {'Английский язык': {'2': 3, '3': 8, '4': 9, '5': 5}}}\n"
     ]
    }
   ],
   "source": [
    "def funk_2(FIO, to_json = False):\n",
    "    teacher_id = -1\n",
    "    with open('teachers.csv', 'r') as f:\n",
    "        csv_reader = csv.reader(f, delimiter=';')\n",
    "        for row in csv_reader:\n",
    "            if row[0][0] == \"i\":\n",
    "                continue\n",
    "            if (FIO.split()[0] == row[1] and\n",
    "               FIO.split()[1] == row[2] and\n",
    "               FIO.split()[2] == row[3]):\n",
    "                teacher_id = int(row[0])\n",
    "            elif teacher_id == -1:\n",
    "                return 'Препод отсутствует'\n",
    "\n",
    "            \n",
    "    students_dic = {}\n",
    "    with open('students.csv', 'r') as f:\n",
    "        csv_reader = csv.reader(f, delimiter=';')\n",
    "        for row in csv_reader:\n",
    "            if row[0][0] == \"i\":\n",
    "                continue\n",
    "            students_dic[row[0]] = int(row[3])\n",
    "    \n",
    "    students_id = []\n",
    "    for k in students_dic.keys():\n",
    "        students_id.append(k) \n",
    "            \n",
    "    groups_id = []\n",
    "    with open('results.csv', 'r') as f:\n",
    "        csv_reader = csv.reader(f, delimiter=';')\n",
    "        for row in csv_reader:\n",
    "            if row[0][0] == \"i\":\n",
    "                continue\n",
    "            if int(row[3]) == teacher_id and row[2] in students_id:\n",
    "                if students_dic[row[2]] not in groups_id:\n",
    "                    groups_id.append(students_dic[row[2]])\n",
    "                    \n",
    "    groups_dic = {}\n",
    "    with open('groups.csv', 'r') as f:\n",
    "        csv_reader = csv.reader(f, delimiter=';')\n",
    "        for row in csv_reader:\n",
    "            if row[0][0] == \"i\":\n",
    "                continue\n",
    "            groups_dic[int(row[0])] = row[1]\n",
    "            \n",
    "    dic2 = {}\n",
    "    for e in groups_id:\n",
    "        dic2[groups_dic[e]] = funk_1(teacher_id, e)\n",
    "        \n",
    "    if to_json:\n",
    "        with open('{name}'.format(name = to_json), 'w') as f:\n",
    "            json.dump(dic2, f)\n",
    "        return True\n",
    "    else:\n",
    "        return dic2\n",
    "    \n",
    "\n",
    "pprint.pprint(funk_2('Милованов Даниил Михайлович'))\n",
    "        \n",
    "\n",
    "    \n",
    "                "
   ]
  },
  {
   "cell_type": "markdown",
   "metadata": {},
   "source": [
    "3. Реализовать функцию, которая принимает параметры entry_year - год поступления, subject_name - наименование предмета и необязаиельный параметр to_json, по умолчанию равный False. Функция должна возвращать словарь со статистикой по группам по данному предмету. Ключами словаря являются id группы, а значениями словари. Внутренний словарь имеет ключи group_name (наименование группы), stats (статистика). Значением ключа статистика является словарь, который возвращает количество студентов получившие оценку 5, количество студентов получившие оценку 4, количество студентов получившие оценку 3, количество студентов получившие оценку 2. Если параметр to_json указан, то сохраняет полученный словарь в указанный файл и возвращает True, иначе просто возвращает словарь."
   ]
  },
  {
   "cell_type": "code",
   "execution_count": 10,
   "metadata": {},
   "outputs": [
    {
     "name": "stdout",
     "output_type": "stream",
     "text": [
      "{1: {'group_name': 'ПИ1-1', 'stats': {'2': 11, '3': 14, '4': 2, '5': 0}},\n",
      " 2: {'group_name': 'ПИ1-2', 'stats': {'2': 13, '3': 9, '4': 2, '5': 1}},\n",
      " 3: {'group_name': 'ПИ1-3', 'stats': {'2': 11, '3': 9, '4': 4, '5': 2}},\n",
      " 4: {'group_name': 'ПИ1-4', 'stats': {'2': 9, '3': 12, '4': 3, '5': 2}},\n",
      " 5: {'group_name': 'ПМ1-1', 'stats': {'2': 15, '3': 5, '4': 5, '5': 1}},\n",
      " 6: {'group_name': 'ПМ1-2', 'stats': {'2': 5, '3': 14, '4': 4, '5': 1}},\n",
      " 7: {'group_name': 'ПМ1-3', 'stats': {'2': 5, '3': 15, '4': 3, '5': 1}},\n",
      " 8: {'group_name': 'ПМ1-4', 'stats': {'2': 8, '3': 14, '4': 3, '5': 0}},\n",
      " 10: {'group_name': 'ПМ1-5', 'stats': {'2': 12, '3': 11, '4': 0, '5': 2}}}\n"
     ]
    }
   ],
   "source": [
    "def funk_3(entry_year, subject_name, to_json = False):    \n",
    "    subjects = {}\n",
    "    with open('subjects.csv', 'r') as f:\n",
    "        csv_reader = csv.reader(f, delimiter=';')\n",
    "        for row in csv_reader:\n",
    "            if row[0][0] != \"i\":\n",
    "                subjects[row[1]] = int(row[0])\n",
    "        \n",
    "            \n",
    "    groups_dic = {}\n",
    "    with open('groups.csv', 'r') as f:\n",
    "        csv_reader = csv.reader(f, delimiter=';')\n",
    "        for row in csv_reader:\n",
    "            if row[0][0] != \"i\":\n",
    "                groups_dic[int(row[0])] = [row[1], int(row[2])]\n",
    "    \n",
    "    dicti3 = {}       \n",
    "    for k, v in groups_dic.items():\n",
    "        if v[1] == entry_year: \n",
    "            dicti3[k] = {\"group_name\":v[0], \"stats\":{\"5\":0,\"4\":0,\"3\":0,\"2\":0}}\n",
    "    \n",
    "    \n",
    "            students = []\n",
    "            with open('students.csv', 'r') as f:\n",
    "                csv_reader = csv.reader(f, delimiter=';')\n",
    "                for row in csv_reader:\n",
    "                    if row[0][0] != \"i\":\n",
    "                        if int(row[3]) == k:\n",
    "                            students.append(int(row[0]))\n",
    "                    \n",
    "            with open('results.csv', 'r') as f:\n",
    "                csv_reader2 = csv.reader(f, delimiter=';')\n",
    "                for row2 in csv_reader2:\n",
    "                    if row2[0][0] != \"i\":\n",
    "                    \n",
    "                        if int(row2[2]) in students and subjects[subject_name] == int(row2[1]):\n",
    "                            if int(row2[7]) >= 85:\n",
    "                                dicti3[k][\"stats\"][\"5\"] += 1\n",
    "                            elif int(row2[7]) >= 75:\n",
    "                                dicti3[k][\"stats\"][\"4\"] += 1\n",
    "                            elif int(row2[7]) >= 51:\n",
    "                                dicti3[k][\"stats\"][\"3\"] += 1\n",
    "                            else:\n",
    "                                dicti3[k][\"stats\"][\"2\"] += 1\n",
    "                                \n",
    "    if to_json:\n",
    "        with open('{name}'.format(name = to_json), 'w') as f:\n",
    "            json.dump(dicti3, f)\n",
    "        return True\n",
    "    else:\n",
    "        return dicti3\n",
    "                    \n",
    "pprint.pprint(funk_3(2018, 'Линейная алгебра'))                \n",
    "            \n",
    "    "
   ]
  },
  {
   "cell_type": "markdown",
   "metadata": {},
   "source": [
    "1. Реализовать функцию, которая по уникальному идентификатору студента возвращает его сумму баллов по каждому из контрольных мероприятий, в том числе total."
   ]
  },
  {
   "cell_type": "code",
   "execution_count": 9,
   "metadata": {},
   "outputs": [],
   "source": [
    "def Gospodi_pomogi(x):\n",
    "    lst1 = []\n",
    "    stud_id = str(x)\n",
    "    (att1, att2, exam, total) = (0, 0, 0, 0)\n",
    "    with open('results.csv', 'r') as csvfile:\n",
    "        csv_reader = csv.DictReader(csvfile, delimiter=';')\n",
    "        for row in csv_reader:               \n",
    "                if row['student_id'] == stud_id:\n",
    "                        att1 += int(row['att1'])\n",
    "                        att2 += int(row['att2'])           \n",
    "                        exam += int(row['exam'])\n",
    "                        total += int(row['total'])\n",
    "        dicti = {stud_id: (att1, att2, exam, total)}\n",
    "    return(dicti)\n",
    "\n",
    "                                   "
   ]
  },
  {
   "cell_type": "code",
   "execution_count": 10,
   "metadata": {},
   "outputs": [
    {
     "data": {
      "text/plain": [
       "{'151301': (252, 279, 510, 1041)}"
      ]
     },
     "execution_count": 10,
     "metadata": {},
     "output_type": "execute_result"
    }
   ],
   "source": [
    "Gospodi_pomogi(151301)"
   ]
  },
  {
   "cell_type": "markdown",
   "metadata": {},
   "source": [
    "2. Реализовать функцию, которая принимает параметры thread - поток в виде (ПИ2018), где буквами является наименование направления, а число - год поступления, необязательный параметр test, который по умолчанию равен total (список возможных значений att1, att2, exam, total), а также необязательный параметр to_json=False. Если параметр указан, то результат выполнения функции должен записываться в файл и функция возвращает True, если такого потока не существует, то возвращает None, иначе возвращает результат функции. Результатом выполнения функции является словарь с рейтингом студентов по указанному из периодов в параметре test. Ключом словаря является место студента в рейтинге, значением - словарь с информацией из файла students.csv, а также информацию, которая возвращается после выполнения первой функции."
   ]
  },
  {
   "cell_type": "markdown",
   "metadata": {},
   "source": [
    "3. Написать функцию, которая принимает  имя группы, год поступления и наименование предмета. Также функция принимает необязательный параметр to_json, который по умолчанию равен False и принимает имя файла. Функция должна вернуть словарь, которая содержит оценки всех студентов данной группы по данному предмету. Ключом является id студента, значением словарь, который содержит полное имя студента и итоговый балл.  Если to_json указывает имя файла, то сохранить результаты в файл и функция возвращает значение True, иначе возвращает получившийся словарь."
   ]
  },
  {
   "cell_type": "code",
   "execution_count": 14,
   "metadata": {},
   "outputs": [
    {
     "name": "stdout",
     "output_type": "stream",
     "text": [
      "{180401: {'name': 'Арутюнян Давид\\xa0', 'total': 67},\n",
      " 180402: {'name': 'Балабанов Владислав\\xa0', 'total': 45},\n",
      " 180403: {'name': 'Беленькая Софья\\xa0', 'total': 33},\n",
      " 180404: {'name': 'Борисенко Никита\\xa0', 'total': 38},\n",
      " 180405: {'name': 'Габов Антон\\xa0', 'total': 60},\n",
      " 180406: {'name': 'Геворкян Альберт\\xa0', 'total': 62},\n",
      " 180407: {'name': 'Горячев Рустам\\xa0', 'total': 69},\n",
      " 180408: {'name': 'Гушан Наталия\\xa0', 'total': 81},\n",
      " 180409: {'name': 'Егоров Денис\\xa0', 'total': 73},\n",
      " 180410: {'name': 'Ефремов Сергей', 'total': 74},\n",
      " 180411: {'name': 'Илюшко Сергей\\xa0', 'total': 32},\n",
      " 180412: {'name': 'Калинин Максим\\xa0', 'total': 57},\n",
      " 180413: {'name': 'Коваленко Глеб\\xa0', 'total': 39},\n",
      " 180414: {'name': 'Комиссаров Александр\\xa0', 'total': 65},\n",
      " 180415: {'name': 'Корчагин Александр', 'total': 39},\n",
      " 180416: {'name': 'Кручинина Яна', 'total': 24},\n",
      " 180417: {'name': 'Мамуков Сармат\\xa0', 'total': 70},\n",
      " 180418: {'name': 'Молчанова Вероника\\xa0', 'total': 58},\n",
      " 180419: {'name': 'Образцов Сергей\\xa0', 'total': 74},\n",
      " 180420: {'name': 'Пантелеймонова Анастасия\\xa0', 'total': 48},\n",
      " 180421: {'name': 'Полынцова Дарья\\xa0', 'total': 35},\n",
      " 180422: {'name': 'Реент Антон\\xa0', 'total': 78},\n",
      " 180423: {'name': 'Смирнов Антон\\xa0', 'total': 41},\n",
      " 180424: {'name': 'Сюзюмов Александр\\xa0', 'total': 64},\n",
      " 180425: {'name': 'Фарбовская Светлана\\xa0', 'total': 52},\n",
      " 180426: {'name': 'Шишкин Артём', 'total': 68}}\n"
     ]
    }
   ],
   "source": [
    "def funk_6(group_name, entry_year, subject_name, to_json = False): \n",
    "    with open('groups.csv', 'r') as f:\n",
    "        csv_reader = csv.reader(f, delimiter=';')\n",
    "        for row in csv_reader:\n",
    "            if row[0][0] != \"i\":\n",
    "                if group_name == row[1] and entry_year == int(row[2]):\n",
    "                    group_id = int(row[0])\n",
    "                    \n",
    "    subjects = {}\n",
    "    with open('subjects.csv', 'r') as f:\n",
    "        csv_reader = csv.reader(f, delimiter=';')\n",
    "        for row in csv_reader:\n",
    "            if row[0][0] != \"i\":\n",
    "                subjects[row[1]] = int(row[0])               \n",
    "   \n",
    "    students = {}\n",
    "    with open('students.csv', 'r') as f:\n",
    "        csv_reader = csv.reader(f, delimiter=';')\n",
    "        for row in csv_reader:\n",
    "            if row[0][0] != \"i\":\n",
    "                if int(row[3]) == group_id:\n",
    "                    students[int(row[0])] = row[1] + \" \" + row[2]\n",
    "\n",
    "\n",
    "    dicti6 = {}       \n",
    "    for k, v in students.items(): \n",
    "        dicti6[k] = {\"name\":v, \"total\":0}\n",
    "        with open('results.csv', 'r') as f:\n",
    "            csv_reader = csv.reader(f, delimiter=';')\n",
    "            for row in csv_reader:\n",
    "                if row[0][0] != \"i\":\n",
    "                    if int(row[2]) == k and subjects[subject_name] == int(row[1]):\n",
    "                        dicti6[k][\"total\"] = int(row[7])\n",
    "        \n",
    "    if to_json:\n",
    "        with open('{name}'.format(name = to_json), 'w') as f:\n",
    "            json.dump(dicti6, f)\n",
    "        return True\n",
    "    else:\n",
    "        return dicti6\n",
    "    \n",
    "pprint.pprint(funk_6(\"ПИ1-4\", 2018, \"Базы данных\"))\n",
    "    "
   ]
  },
  {
   "cell_type": "code",
   "execution_count": null,
   "metadata": {},
   "outputs": [],
   "source": []
  }
 ],
 "metadata": {
  "kernelspec": {
   "display_name": "Python 3",
   "language": "python",
   "name": "python3"
  },
  "language_info": {
   "codemirror_mode": {
    "name": "ipython",
    "version": 3
   },
   "file_extension": ".py",
   "mimetype": "text/x-python",
   "name": "python",
   "nbconvert_exporter": "python",
   "pygments_lexer": "ipython3",
   "version": "3.8.3"
  }
 },
 "nbformat": 4,
 "nbformat_minor": 2
}
