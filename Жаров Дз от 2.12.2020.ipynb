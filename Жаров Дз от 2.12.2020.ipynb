{
 "cells": [
  {
   "cell_type": "code",
   "execution_count": 1,
   "metadata": {},
   "outputs": [],
   "source": [
    "import re"
   ]
  },
  {
   "cell_type": "markdown",
   "metadata": {},
   "source": [
    "# Регулярные выражения. Задания"
   ]
  },
  {
   "cell_type": "markdown",
   "metadata": {},
   "source": [
    "1) Дана строка 'aaa--bbb==ccc__ddd'. Написать регулярное выражение для разбивки строки на список ['aaa','bbb','ccc','ddd']."
   ]
  },
  {
   "cell_type": "code",
   "execution_count": 5,
   "metadata": {},
   "outputs": [
    {
     "name": "stdout",
     "output_type": "stream",
     "text": [
      "['aaa', 'bbb', 'ccc', 'ddd']\n"
     ]
    }
   ],
   "source": [
    "pattern = re.split(r'--|==|__' , r'aaa--bbb==ccc__ddd')\n",
    "print(pattern)"
   ]
  },
  {
   "cell_type": "markdown",
   "metadata": {},
   "source": [
    "2) Получить первое слово из произвольной строки. Например, для 'Yesterday, All my troubles seemed so far away' должно возвращаться 'Yesterday'."
   ]
  },
  {
   "cell_type": "code",
   "execution_count": 13,
   "metadata": {},
   "outputs": [
    {
     "name": "stdout",
     "output_type": "stream",
     "text": [
      "Yesterday\n"
     ]
    }
   ],
   "source": [
    "pattern = re.compile(r'\\.|\\'| |,|=|-|\\?|!')\n",
    "s = 'Yesterday, All my troubles seemed so far away'\n",
    "print(pattern.split(s)[0])"
   ]
  },
  {
   "cell_type": "markdown",
   "metadata": {},
   "source": [
    "3) Получить последнее слово из произвольной строки."
   ]
  },
  {
   "cell_type": "code",
   "execution_count": 15,
   "metadata": {},
   "outputs": [
    {
     "name": "stdout",
     "output_type": "stream",
     "text": [
      "away\n"
     ]
    }
   ],
   "source": [
    "pattern = re.compile(r'\\.|\\'| |,|=|-|\\?|!')\n",
    "s = 'Yesterday, All my troubles seemed so far away'\n",
    "print(pattern.split(s)[len(pattern.split(s))-1])"
   ]
  },
  {
   "cell_type": "markdown",
   "metadata": {},
   "source": [
    "4) В следующем отрывке найти все слова, которые начинаются на гласную букву:"
   ]
  },
  {
   "cell_type": "code",
   "execution_count": 65,
   "metadata": {},
   "outputs": [
    {
     "name": "stdout",
     "output_type": "stream",
     "text": [
      "[' uncle', ' ideals', ' inspire', ' one', ' admire', '\\nand', ' others', ' example', ' attendance', ' and', '\\nand', ' away']\n"
     ]
    }
   ],
   "source": [
    "s= '''My uncle -- high ideals inspire him;\n",
    "but when past joking he fell sick,\n",
    "he really forced one to admire him --\n",
    "and never played a shrewder trick.\n",
    "Let others learn from his example!\n",
    "But God, how deadly dull to sample\n",
    "sickroom attendance night and day\n",
    "and never stir a foot away!'''\n",
    "p = re.compile(r'[^\\w][aeouiy][\\w]+', re.I)\n",
    "print(p.findall(s))"
   ]
  },
  {
   "cell_type": "markdown",
   "metadata": {},
   "source": [
    "5) В этом же отрывке найти первое слово каждой строки"
   ]
  },
  {
   "cell_type": "code",
   "execution_count": 59,
   "metadata": {},
   "outputs": [
    {
     "name": "stdout",
     "output_type": "stream",
     "text": [
      "['My', 'but', 'he', 'and', 'Let', 'But', 'sickroom', 'and']\n"
     ]
    }
   ],
   "source": [
    "s= '''My uncle -- high ideals inspire him;\n",
    "but when past joking he fell sick,\n",
    "he really forced one to admire him --\n",
    "and never played a shrewder trick.\n",
    "Let others learn from his example!\n",
    "But God, how deadly dull to sample\n",
    "sickroom attendance night and day\n",
    "and never stir a foot away!'''\n",
    "p = re.compile(r'^[\\w]+', re.I|re.M)\n",
    "print(p.findall(s))"
   ]
  },
  {
   "cell_type": "markdown",
   "metadata": {},
   "source": [
    "6) Проверить корректность введенного E-mail"
   ]
  },
  {
   "cell_type": "code",
   "execution_count": 62,
   "metadata": {},
   "outputs": [
    {
     "name": "stdout",
     "output_type": "stream",
     "text": [
      "antonzarov007@gmail.com\n",
      "Введено правильно\n"
     ]
    }
   ],
   "source": [
    "s = str(input())\n",
    "e_mail = re.compile(r'[\\w]+[@]((email)|(yandex)|(gmail)|(yahoo))[.]((com)|(ru))')\n",
    "if e_mail.match(s):\n",
    "    print('Введено правильно')\n",
    "else: \n",
    "    print('Введено неправильно')"
   ]
  },
  {
   "cell_type": "markdown",
   "metadata": {},
   "source": [
    "7) В следующей строке найти все email-адреса и вывести только доменные имена"
   ]
  },
  {
   "cell_type": "code",
   "execution_count": 76,
   "metadata": {},
   "outputs": [
    {
     "name": "stdout",
     "output_type": "stream",
     "text": [
      "['gmail']\n"
     ]
    }
   ],
   "source": [
    "s = '''My uncle -- high ideals inspire him;\n",
    "but when past joking he fell sick,\n",
    "he really forced one to admire him --\n",
    "and never played antonzarov007@gmail.com a shrewder trick.\n",
    "Let others learn from his example!\n",
    "But God, how deadly dull to sample\n",
    "sickroom attendance night and day\n",
    "and never stir a foot away! '''\n",
    "results = []\n",
    "e_mail = re.compile(r'[\\w]+[@]((email)|(yandex)|(gmail)|(yahoo))[.]((com)|(ru))')\n",
    "domain = re.compile(r'(email)|(yandex)|(gmail)|(yahoo)')\n",
    "pattern = re.compile(r'\\'| |,|=|\\?|!')\n",
    "lst = pattern.split(s)\n",
    "for el in lst:\n",
    "    if e_mail.match(el):\n",
    "        results.append(domen.search(el).group())\n",
    "    else: \n",
    "        continue\n",
    "if results != []:        \n",
    "    print(results)\n",
    "else:\n",
    "    print('Email не найден.')\n",
    "    "
   ]
  },
  {
   "cell_type": "markdown",
   "metadata": {},
   "source": [
    "8) Проверить корректность введенного номера мобильного телефона. Корректными считаются: <br>\n",
    "+7(999)999-99-99  <br>\n",
    "+7 (999) 999-99-99  <br>\n",
    "+7 999 999-99-99 <br>\n",
    "+7 999 999 99 99 <br>\n",
    "+79999999999"
   ]
  },
  {
   "cell_type": "code",
   "execution_count": 86,
   "metadata": {},
   "outputs": [
    {
     "name": "stdout",
     "output_type": "stream",
     "text": [
      "+7 999 999 99 99\n",
      "Correct\n"
     ]
    }
   ],
   "source": [
    "s = str(input())\n",
    "tel_number = re.compile(r'[+7][\\d]{10}')\n",
    "tel_number1 = re.compile(r'[+7][ ][(][\\d]{3}[)][ ][\\d]{3}[-][\\d]{2}[-][\\d]{2}')\n",
    "tel_number2 = re.compile(r'[+7][ ][\\d]{3}[ ][\\d]{3}[-][\\d]{2}[-][\\d]{2}')\n",
    "tel_number3 = re.compile(r'[+7][(][\\d]{3}[)][\\d]{3}[-][\\d]{2}[-][\\d]{2}')\n",
    "tel_number4 = re.compile(r'[+7][ ][\\d]{3}[ ][\\d]{3}[ ][\\d]{2}[ ][\\d]{2}')\n",
    "if tel_number.search(s):\n",
    "    print('Correct')\n",
    "elif tel_number1.search(s):\n",
    "    print('Correct')\n",
    "elif tel_number2.search(s):\n",
    "    print('Correct')\n",
    "elif tel_number3.search(s):\n",
    "    print('Correct')\n",
    "elif tel_number4.search(s):\n",
    "    print('Correct')\n",
    "else:\n",
    "    print('Incorrect')"
   ]
  }
 ],
 "metadata": {
  "kernelspec": {
   "display_name": "Python 3",
   "language": "python",
   "name": "python3"
  },
  "language_info": {
   "codemirror_mode": {
    "name": "ipython",
    "version": 3
   },
   "file_extension": ".py",
   "mimetype": "text/x-python",
   "name": "python",
   "nbconvert_exporter": "python",
   "pygments_lexer": "ipython3",
   "version": "3.8.3"
  }
 },
 "nbformat": 4,
 "nbformat_minor": 2
}
